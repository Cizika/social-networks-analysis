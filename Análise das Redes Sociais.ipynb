{
 "cells": [
  {
   "cell_type": "markdown",
   "metadata": {
    "id": "KKgXt_HknnOy"
   },
   "source": [
    "# Classificação de Redes Sociais\n",
    "\n",
    "Projeto da disciplina **SME0130 - Redes Complexas** administrada pelo Prof. Francisco Rodrigues\n",
    "\n",
    "* Alexandre Eduardo de Souza Jesus - alexandre_souza@usp.br - 12559506\n",
    "\n",
    "* Gustavo Silva de Oliveira - - 12567231\n",
    "\n",
    "* Lucas Ivars Cadima Ciziks - luciziks@usp.br - 125599472\n",
    "\n",
    "* Paloma Botto de Medeiros Serrão - palomabotto@usp.br - 12689641\n",
    "\n",
    "---"
   ]
  },
  {
   "cell_type": "code",
   "execution_count": 1,
   "metadata": {
    "id": "__5uyt_qnUL4"
   },
   "outputs": [],
   "source": [
    "# Importando Bibliotecas\n",
    "import numpy as np\n",
    "import networkx as nx\n",
    "import matplotlib.pyplot as plt\n",
    "import math\n",
    "from sklearn.decomposition import PCA\n",
    "from sklearn.neighbors import KNeighborsClassifier\n",
    "from sklearn.preprocessing import StandardScaler\n",
    "import pandas as pd\n",
    "from sklearn.impute import SimpleImputer"
   ]
  },
  {
   "cell_type": "markdown",
   "metadata": {
    "id": "OsZANZC1oXQB"
   },
   "source": [
    "## 1. Introdução"
   ]
  },
  {
   "cell_type": "markdown",
   "metadata": {
    "id": "Hm3ZXms2ogPw"
   },
   "source": [
    "## 2. Metodologia\n",
    "\n",
    "A análise será realizada da seguinte forma:\n",
    "\n",
    "* Selecionar algumas redes sociais para análise (http://konect.cc/categories/Social/);\n",
    "* Para cada rede social, gerar cerca de 30 redes a partir dos modelos ER, BA, WS, etc, com o mesmo N e grau médio da rede real;\n",
    "* Calcular medidas para cada rede, tais como distância, transitividade, etc;\n",
    "* Projetar em 2D as redes e os modelos;\n",
    "* Classificar a rede de acordo com os modelos (https://iopscience.iop.org/article/10.1088/1742-5468/2010/11/P11015/pdf)."
   ]
  },
  {
   "cell_type": "markdown",
   "metadata": {
    "id": "xI2Oyrr1o_tu"
   },
   "source": [
    "## 3. Análise das Redes Sociais"
   ]
  },
  {
   "cell_type": "markdown",
   "metadata": {
    "id": "Ef3IlE5TCVBn"
   },
   "source": [
    "### 3.1. Funções Úteis"
   ]
  },
  {
   "cell_type": "code",
   "execution_count": 2,
   "metadata": {
    "id": "7zqlKxxpCVBn"
   },
   "outputs": [],
   "source": [
    "# Função para calcular o momento do grau\n",
    "def momento(grafo, m):\n",
    "  M = 0\n",
    "  n = len(grafo)\n",
    "\n",
    "  for node in grafo.nodes():\n",
    "    M += grafo.degree(node) ** m\n",
    "\n",
    "  return M / n"
   ]
  },
  {
   "cell_type": "code",
   "execution_count": 3,
   "metadata": {
    "id": "WS46mg1GCVBo"
   },
   "outputs": [],
   "source": [
    "# Função para calcular a distribuição de graus\n",
    "def degree_distribution(grafo):\n",
    "  degrees = list(dict(grafo.degree()).values())\n",
    "  degrees_array = np.array(degrees)\n",
    "\n",
    "  max = np.max(degrees_array)\n",
    "  min = np.min(degrees_array)\n",
    "  kvalues = np.arange(min, max + 1)\n",
    "  Pk = np.zeros(max + 1)\n",
    "\n",
    "  for k in degrees_array:\n",
    "    Pk[k] += 1\n",
    "\n",
    "  Pk /= sum(Pk)\n",
    "  return kvalues, Pk"
   ]
  },
  {
   "cell_type": "code",
   "execution_count": 4,
   "metadata": {
    "id": "nklnRANvCVBp"
   },
   "outputs": [],
   "source": [
    "# Função para calcular Entropia de Shannon\n",
    "def shannon_entropy(grafo):\n",
    "  k, Pk = degree_distribution(grafo)\n",
    "  H = 0\n",
    "  for p in Pk:\n",
    "    if(p > 0):\n",
    "      H = H - p * math.log(p, 2)\n",
    "  return H"
   ]
  },
  {
   "cell_type": "code",
   "execution_count": 5,
   "metadata": {
    "id": "yGE3sxYDCVBp"
   },
   "outputs": [],
   "source": [
    "# Função para calcular medidas da rede\n",
    "def medidas_da_rede(graph):\n",
    "    avg_degree = momento(graph, 1)\n",
    "    moment2 = momento(graph, 2)\n",
    "    variance = moment2 - avg_degree**2\n",
    "    avg_clustering = nx.average_clustering(graph)\n",
    "    avg_shortest_path = nx.average_shortest_path_length(graph)\n",
    "    assortativity = nx.degree_assortativity_coefficient(graph)\n",
    "    transitivity = nx.transitivity(graph)\n",
    "    entropy = shannon_entropy(graph)\n",
    "\n",
    "    return  [avg_degree, moment2, variance, avg_clustering, avg_shortest_path, assortativity, transitivity, entropy]"
   ]
  },
  {
   "cell_type": "code",
   "execution_count": 6,
   "metadata": {
    "id": "4Z7gONJtCVBq"
   },
   "outputs": [],
   "source": [
    "# Função para gerar uma rede ER e coletar seu componente principal\n",
    "def generate_ER(N, p):\n",
    "    GER = nx.gnp_random_graph(N, p, seed=None, directed=False)\n",
    "    Gcc = sorted(nx.connected_components(GER), key=len, reverse=True)\n",
    "    GER = GER.subgraph(Gcc[0])\n",
    "\n",
    "    GER = nx.convert_node_labels_to_integers(GER, first_label=0)\n",
    "\n",
    "    return GER\n",
    "\n",
    "# Função para gerar uma rede WS e coletar seu componente principal\n",
    "def generate_WS(N, k, p):\n",
    "    GWS = nx.watts_strogatz_graph(N, k, p, seed=None)\n",
    "    Gcc = sorted(nx.connected_components(GWS), key=len, reverse=True)\n",
    "    GWS = GWS.subgraph(Gcc[0])\n",
    "\n",
    "    GWS = nx.convert_node_labels_to_integers(GWS, first_label=0)\n",
    "\n",
    "    return GWS\n",
    "\n",
    "# Função para gerar uma rede BA e coletar seu componente principal\n",
    "def generate_BA(N, m):\n",
    "    GBA = nx.barabasi_albert_graph(N, m)\n",
    "    Gcc = sorted(nx.connected_components(GBA), key=len, reverse=True)\n",
    "    GBA = GBA.subgraph(Gcc[0])\n",
    "\n",
    "    GBA = nx.convert_node_labels_to_integers(GBA, first_label=0)\n",
    "\n",
    "    return GBA"
   ]
  },
  {
   "cell_type": "code",
   "execution_count": 7,
   "metadata": {
    "id": "d0qXXV0SCVBq"
   },
   "outputs": [],
   "source": [
    "# Função para gerar o conjunto de treinamento para classificar a rede social\n",
    "def generate_train_set(N, avg_degree, n_networks = 30):\n",
    "    X_train = []\n",
    "    y_train = []\n",
    "\n",
    "    p = avg_degree / (N - 1)\n",
    "    m = int(avg_degree/2)\n",
    "\n",
    "    for i in range(n_networks):\n",
    "        graph_ER = generate_ER(N, p)\n",
    "        X_train.append(medidas_da_rede(graph_ER))\n",
    "        y_train.append(0.0)\n",
    "\n",
    "        graph_WS = generate_WS(N, int(avg_degree), p)\n",
    "        X_train.append(medidas_da_rede(graph_WS))\n",
    "        y_train.append(1.0)\n",
    "\n",
    "        graph_BA = generate_BA(N, m)\n",
    "        X_train.append(medidas_da_rede(graph_BA))\n",
    "        y_train.append(2.0)\n",
    "\n",
    "    return np.array(X_train), np.array(y_train)"
   ]
  },
  {
   "cell_type": "markdown",
   "metadata": {
    "id": "B3fWHmpTCVBr"
   },
   "source": [
    "### 3.1. Petster Hamster Households"
   ]
  },
  {
   "cell_type": "code",
   "execution_count": 8,
   "metadata": {
    "colab": {
     "base_uri": "https://localhost:8080/",
     "height": 399
    },
    "id": "wbYAe5xaCVBs",
    "outputId": "b03ffdf5-da50-4715-933c-47ef6a9e191c"
   },
   "outputs": [],
   "source": [
    "# Lendo rede social Petster http://konect.cc/networks/petster-hamster-household/\n",
    "petster_graph = nx.read_edgelist(\"data/petster-hamster-household.txt\", nodetype=int, data=(('weight',float),))\n",
    "petster_graph = petster_graph.to_undirected()\n",
    "petster_graph.remove_edges_from(nx.selfloop_edges(petster_graph))\n",
    "\n",
    "# Selecionando maior componente\n",
    "Gcc = sorted(nx.connected_components(petster_graph), key=len, reverse=True)\n",
    "petster_graph = petster_graph.subgraph(Gcc[0])\n",
    "petster_graph = nx.convert_node_labels_to_integers(petster_graph, first_label=0)"
   ]
  },
  {
   "cell_type": "code",
   "execution_count": 9,
   "metadata": {
    "id": "Nvbh4A5hCVBs"
   },
   "outputs": [
    {
     "name": "stdout",
     "output_type": "stream",
     "text": [
      "Number of nodes: 874\n",
      "Number of edges: 4003\n"
     ]
    },
    {
     "data": {
      "image/png": "[encoded data removed]",
      "text/plain": [
       "<Figure size 432x288 with 1 Axes>"
      ]
     },
     "metadata": {},
     "output_type": "display_data"
    }
   ],
   "source": [
    "N = len(petster_graph)\n",
    "M = petster_graph.number_of_edges()\n",
    "print('Number of nodes:', N)\n",
    "print('Number of edges:', M)\n",
    "\n",
    "pos = nx.spring_layout(petster_graph)\n",
    "nx.draw(petster_graph, pos, node_color=\"b\", node_size=50, with_labels=False)"
   ]
  },
  {
   "cell_type": "code",
   "execution_count": 10,
   "metadata": {
    "id": "LyO7TvrkCVBt"
   },
   "outputs": [],
   "source": [
    "X_petster = np.array(medidas_da_rede(petster_graph))\n",
    "X_train, y_train = generate_train_set(N, X_petster[0])"
   ]
  },
  {
   "cell_type": "code",
   "execution_count": 11,
   "metadata": {
    "id": "mTeFydwRCVBu"
   },
   "outputs": [
    {
     "name": "stdout",
     "output_type": "stream",
     "text": [
      "X_petster: (1, 8)\n"
     ]
    }
   ],
   "source": [
    "# Scale the features using StandardScaler\n",
    "scaler = StandardScaler()\n",
    "X_train = scaler.fit_transform(X_train)\n",
    "\n",
    "X_petster = X_petster.reshape(1, len(X_petster))\n",
    "X_petster = scaler.transform(X_petster)\n",
    "print('X_petster:', X_petster.shape)"
   ]
  },
  {
   "cell_type": "code",
   "execution_count": 12,
   "metadata": {
    "id": "tfQ4LeVVCVBu"
   },
   "outputs": [
    {
     "name": "stdout",
     "output_type": "stream",
     "text": [
      "O PCA com 2 componentes principais explica 97.9087% da variância\n"
     ]
    }
   ],
   "source": [
    "# Aplicando Análise de Componentes Principais (PCA)\n",
    "pca = PCA(n_components = 2)\n",
    "X_r = pca.fit_transform(X_train)\n",
    "\n",
    "# Compreendendo variância explicada\n",
    "explained_variance = sum(pca.explained_variance_ratio_.tolist()[:2]) * 100\n",
    "print(f\"O PCA com 2 componentes principais explica {explained_variance:.4f}% da variância\")"
   ]
  },
  {
   "cell_type": "code",
   "execution_count": 13,
   "metadata": {
    "id": "JuSS7ICmCVBv"
   },
   "outputs": [
    {
     "data": {
      "text/plain": [
       "array([3.63400062, 3.09419152, 3.19030651, 2.91970498, 3.01559764,\n",
       "       3.04041407, 3.20058185, 3.18340633, 3.65318261, 3.44519375,\n",
       "       3.33834176, 3.56632616, 3.07338005, 3.28537092, 3.05818721,\n",
       "       3.21022318, 3.5931878 , 2.94232966, 3.21207982, 3.165186  ,\n",
       "       3.21548951, 3.28454342, 3.25489448, 3.38283934, 3.4537149 ,\n",
       "       3.28661103, 3.37940722, 3.33041159, 3.1117007 , 3.30043072])"
      ]
     },
     "execution_count": 13,
     "metadata": {},
     "output_type": "execute_result"
    }
   ],
   "source": [
    "X_r[y_train == 1.0, 0]"
   ]
  },
  {
   "cell_type": "code",
   "execution_count": 14,
   "metadata": {
    "id": "QQLIUsqcCVBv"
   },
   "outputs": [
    {
     "data": {
      "text/plain": [
       "Text(0.5, 1.0, 'PCA Petster Network')"
      ]
     },
     "execution_count": 14,
     "metadata": {},
     "output_type": "execute_result"
    },
    {
     "data": {
      "image/png": "[encoded data removed]",
      "text/plain": [
       "<Figure size 432x288 with 1 Axes>"
      ]
     },
     "metadata": {
      "needs_background": "light"
     },
     "output_type": "display_data"
    }
   ],
   "source": [
    "colors = [\"orange\", \"turquoise\", \"red\"]\n",
    "lw = 3\n",
    "\n",
    "for color, i in zip(colors, [0.0, 1.0, 2.0]):\n",
    "    plt.scatter(\n",
    "        X_r[y_train == i, 0], X_r[y_train == i, 1], color=color, lw=lw, label=i\n",
    "    )\n",
    "plt.legend(loc=\"best\", shadow=False, scatterpoints=1)\n",
    "plt.title(\"PCA Petster Network\")"
   ]
  },
  {
   "cell_type": "code",
   "execution_count": 15,
   "metadata": {
    "id": "cktCtkb2CVBw"
   },
   "outputs": [
    {
     "name": "stdout",
     "output_type": "stream",
     "text": [
      "Classe: BA\n"
     ]
    },
    {
     "name": "stderr",
     "output_type": "stream",
     "text": [
      "/home/gustavo/miniconda3/lib/python3.9/site-packages/sklearn/neighbors/_classification.py:228: FutureWarning: Unlike other reduction functions (e.g. `skew`, `kurtosis`), the default behavior of `mode` typically preserves the axis it acts along. In SciPy 1.11.0, this behavior will change: the default value of `keepdims` will become False, the `axis` over which the statistic is taken will be eliminated, and the value None will no longer be accepted. Set `keepdims` to True or False to avoid this warning.\n",
      "  mode, _ = stats.mode(_y[neigh_ind, k], axis=1)\n"
     ]
    }
   ],
   "source": [
    "# Aplicando modelo KNN com 5 vizinhos\n",
    "k = 5\n",
    "model = KNeighborsClassifier(n_neighbors=k, metric='euclidean')\n",
    "model.fit(X_r, y_train)\n",
    "\n",
    "# faz a predição no conjunto de teste\n",
    "X_petster = pca.transform(X_petster)\n",
    "y_pred = model.predict(X_petster)\n",
    "cl = ['ER','WS','BA']\n",
    "print('Classe:', cl[int(y_pred)])"
   ]
  },
  {
   "cell_type": "markdown",
   "metadata": {
    "id": "oFIWZNUQpGZW"
   },
   "source": [
    "### 3.3. Facebook"
   ]
  },
  {
   "cell_type": "code",
   "execution_count": 16,
   "metadata": {
    "id": "dWyiHcc2CvER"
   },
   "outputs": [],
   "source": [
    "# http://konect.cc/networks/ego-facebook/\n",
    "\n",
    "facebook_graph = nx.read_edgelist(\"data/output.txt\")\n",
    "facebook_graph = facebook_graph.to_undirected()\n",
    "facebook_graph.remove_edges_from(nx.selfloop_edges(facebook_graph))\n",
    "\n",
    "# Selecionando maior componente\n",
    "Gcc = sorted(nx.connected_components(facebook_graph), key=len, reverse=True)\n",
    "facebook_graph = facebook_graph.subgraph(Gcc[0])\n",
    "facebook_graph = nx.convert_node_labels_to_integers(facebook_graph, first_label=0)"
   ]
  },
  {
   "cell_type": "code",
   "execution_count": 17,
   "metadata": {
    "id": "meyO11UXC3f3"
   },
   "outputs": [
    {
     "name": "stdout",
     "output_type": "stream",
     "text": [
      "Number of nodes: 2888\n",
      "Number of edges: 2981\n"
     ]
    },
    {
     "data": {
      "image/png": "[encoded data removed]",
      "text/plain": [
       "<Figure size 432x288 with 1 Axes>"
      ]
     },
     "metadata": {},
     "output_type": "display_data"
    }
   ],
   "source": [
    "N = len(facebook_graph)\n",
    "M = facebook_graph.number_of_edges()\n",
    "print('Number of nodes:', N)\n",
    "print('Number of edges:', M)\n",
    "\n",
    "pos = nx.spring_layout(facebook_graph)\n",
    "nx.draw(facebook_graph, pos, node_color=\"b\", node_size=50, with_labels=False)"
   ]
  },
  {
   "cell_type": "code",
   "execution_count": 18,
   "metadata": {
    "id": "hTqhcTD3F8Iy"
   },
   "outputs": [
    {
     "name": "stderr",
     "output_type": "stream",
     "text": [
      "/home/gustavo/miniconda3/lib/python3.9/site-packages/networkx/algorithms/assortativity/correlation.py:298: RuntimeWarning: invalid value encountered in double_scalars\n",
      "  return (xy * (M - ab)).sum() / np.sqrt(vara * varb)\n"
     ]
    }
   ],
   "source": [
    "X_facebook = np.array(medidas_da_rede(facebook_graph))\n",
    "X_train, y_train = generate_train_set(N, X_facebook[0])"
   ]
  },
  {
   "cell_type": "code",
   "execution_count": 19,
   "metadata": {
    "id": "JoDzaCxMGH4X"
   },
   "outputs": [
    {
     "name": "stdout",
     "output_type": "stream",
     "text": [
      "X_facebook: (1, 8)\n"
     ]
    }
   ],
   "source": [
    "# Scale the features using StandardScaler\n",
    "scaler = StandardScaler()\n",
    "X_train = scaler.fit_transform(X_train)\n",
    "\n",
    "X_facebook = X_facebook.reshape(1, len(X_facebook))\n",
    "X_facebook = scaler.transform(X_facebook)\n",
    "print('X_facebook:', X_facebook.shape)"
   ]
  },
  {
   "cell_type": "code",
   "execution_count": 20,
   "metadata": {
    "id": "gOGqEav8PMxo"
   },
   "outputs": [
    {
     "data": {
      "text/plain": [
       "array([[ 1.30792357e+00, -3.86666590e-01, -5.62073541e-01,\n",
       "         1.14489272e+00, -6.90949689e-01, -2.55379027e-01,\n",
       "         1.90453252e+00,  9.31638096e-01],\n",
       "       [-7.03530920e-01, -9.55831607e-01, -8.05046902e-01,\n",
       "        -4.33911088e-01,  1.60249650e+00,  1.31737407e+00,\n",
       "        -5.25157737e-01, -1.38356544e+00],\n",
       "       [-7.06751132e-01,  1.48858101e+00,  1.52312831e+00,\n",
       "        -4.33911088e-01, -6.99162729e-01, -1.13752792e+00,\n",
       "        -5.25157737e-01,  3.94971376e-01],\n",
       "       [ 1.50486360e+00, -3.33015854e-01, -5.43397824e-01,\n",
       "         5.72937043e-01, -6.92285931e-01, -8.65615794e-01,\n",
       "         6.18743252e-01,  9.79310558e-01],\n",
       "       [-7.03530920e-01, -9.55377951e-01, -8.04614899e-01,\n",
       "        -4.33911088e-01,  1.77859135e+00,  1.30051271e+00,\n",
       "        -5.25157737e-01, -1.35444896e+00],\n",
       "       [-7.06751132e-01,  1.99554173e+00,  2.00589231e+00,\n",
       "        -4.33911088e-01, -7.00018843e-01, -6.55199541e-01,\n",
       "        -5.25157737e-01,  3.94586986e-01],\n",
       "       [ 1.37458646e+00, -3.70563795e-01, -5.57648710e-01,\n",
       "         1.00853089e+00, -6.91959182e-01,  1.04819429e+00,\n",
       "         6.57558255e-01,  9.41667712e-01],\n",
       "       [-7.03530920e-01, -9.55945021e-01, -8.05154903e-01,\n",
       "        -4.33911088e-01,  1.49705669e+00,  4.49313789e-16,\n",
       "        -5.25157737e-01, -1.39295209e+00],\n",
       "       [-7.06751132e-01,  9.55761889e-01,  1.01574011e+00,\n",
       "        -4.33911088e-01, -6.96296767e-01, -1.36239534e+00,\n",
       "        -5.25157737e-01,  4.23885886e-01],\n",
       "       [ 1.39084333e+00, -3.54828060e-01, -5.45334188e-01,\n",
       "         1.66082958e-01, -6.91939905e-01,  2.98865911e-01,\n",
       "         6.34602261e-01,  9.60161968e-01],\n",
       "       [-7.03530920e-01, -9.55945021e-01, -8.05154903e-01,\n",
       "        -4.33911088e-01,  1.49705669e+00,  4.49313789e-16,\n",
       "        -5.25157737e-01, -1.39295209e+00],\n",
       "       [-7.06751132e-01,  6.98198624e-01,  7.70470074e-01,\n",
       "        -4.33911088e-01, -6.98086726e-01, -9.10213336e-01,\n",
       "        -5.25157737e-01,  4.39959687e-01],\n",
       "       [ 1.48309281e+00, -3.30654395e-01, -5.37538319e-01,\n",
       "        -4.33911088e-01, -6.92393928e-01,  1.34345829e-01,\n",
       "        -5.25157737e-01,  9.76919426e-01],\n",
       "       [-7.03530920e-01, -9.55945021e-01, -8.05154903e-01,\n",
       "        -4.33911088e-01,  1.49705669e+00,  4.49313789e-16,\n",
       "        -5.25157737e-01, -1.39295209e+00],\n",
       "       [-7.06751132e-01,  9.48389977e-01,  1.00872005e+00,\n",
       "        -4.33911088e-01, -6.98643798e-01, -1.61137974e+00,\n",
       "        -5.25157737e-01,  3.79884999e-01],\n",
       "       [ 1.51000317e+00, -3.20975248e-01, -5.32785317e-01,\n",
       "         6.72419397e-01, -6.92719313e-01, -4.19793754e-01,\n",
       "         1.68925788e+00,  9.91468544e-01],\n",
       "       [-7.03530920e-01, -9.55831607e-01, -8.05046902e-01,\n",
       "        -4.33911088e-01,  1.30849504e+00,  1.31737407e+00,\n",
       "        -5.25157737e-01, -1.38356544e+00],\n",
       "       [-7.06751132e-01,  1.03174929e+00,  1.08810071e+00,\n",
       "        -4.33911088e-01, -6.95226475e-01, -5.89589763e-01,\n",
       "        -5.25157737e-01,  4.43676346e-01],\n",
       "       [ 1.23036010e+00, -3.94171482e-01, -5.56607642e-01,\n",
       "        -3.67890779e-02, -6.91012285e-01, -3.09302295e-01,\n",
       "         6.73508572e-01,  9.36807911e-01],\n",
       "       [-7.03530920e-01, -9.55718193e-01, -8.04938902e-01,\n",
       "        -4.33911088e-01,  1.61882679e+00,  1.31316092e+00,\n",
       "        -5.25157737e-01, -1.37563052e+00],\n",
       "       [-7.06751132e-01,  1.71983222e+00,  1.74334213e+00,\n",
       "        -4.33911088e-01, -6.99989445e-01, -6.77296550e-01,\n",
       "        -5.25157737e-01,  4.24260746e-01],\n",
       "       [ 1.36090249e+00, -3.65949978e-01, -5.51010494e-01,\n",
       "         4.97579668e-01, -6.91569213e-01, -2.10292281e-01,\n",
       "         6.63092354e-01,  9.55231807e-01],\n",
       "       [-7.03530920e-01, -9.55604779e-01, -8.04830901e-01,\n",
       "        -4.33911088e-01,  1.19855311e+00,  1.30894631e+00,\n",
       "        -5.25157737e-01, -1.36824401e+00],\n",
       "       [-7.06751132e-01,  1.58917925e+00,  1.61892510e+00,\n",
       "        -4.33911088e-01, -7.00028325e-01, -7.58596498e-01,\n",
       "        -5.25157737e-01,  4.04688267e-01],\n",
       "       [ 1.52250533e+00, -3.32059836e-01, -5.45418389e-01,\n",
       "         3.72356978e+00, -6.92145539e-01,  9.80504304e-02,\n",
       "         2.84740600e+00,  9.73436890e-01],\n",
       "       [-7.03530920e-01, -9.55831607e-01, -8.05046902e-01,\n",
       "        -4.33911088e-01,  2.23695708e+00,  1.31737407e+00,\n",
       "        -5.25157737e-01, -1.38356544e+00],\n",
       "       [-7.06751132e-01,  8.91002477e-01,  9.54071595e-01,\n",
       "        -4.33911088e-01, -6.96823353e-01, -2.01095905e+00,\n",
       "        -5.25157737e-01,  4.08277708e-01],\n",
       "       [ 1.30876677e+00, -3.82437837e-01, -5.58184211e-01,\n",
       "        -4.33911088e-01, -6.91098609e-01, -9.35079834e-01,\n",
       "        -5.25157737e-01,  9.35253603e-01],\n",
       "       [-7.03530920e-01, -9.55718193e-01, -8.04938902e-01,\n",
       "        -4.33911088e-01,  1.38419444e+00,  1.31316092e+00,\n",
       "        -5.25157737e-01, -1.37563052e+00],\n",
       "       [-7.06751132e-01,  1.70928471e+00,  1.73329805e+00,\n",
       "        -4.33911088e-01, -6.99625757e-01, -6.56597759e-01,\n",
       "        -5.25157737e-01,  4.07214892e-01],\n",
       "       [ 1.33940051e+00, -3.69552416e-01, -5.50919428e-01,\n",
       "        -4.33911088e-01, -6.91824935e-01, -1.96288412e-01,\n",
       "        -5.25157737e-01,  9.47795084e-01],\n",
       "       [-7.03530920e-01, -9.55718193e-01, -8.04938902e-01,\n",
       "        -4.33911088e-01,  1.13076699e+00,  1.31316092e+00,\n",
       "        -5.25157737e-01, -1.37563052e+00],\n",
       "       [-7.06751132e-01,  2.20320282e+00,  2.20364195e+00,\n",
       "        -4.33911088e-01, -7.00406974e-01, -2.91110788e-01,\n",
       "        -5.25157737e-01,  4.14300148e-01],\n",
       "       [ 1.35166764e+00, -3.72270354e-01, -5.55515917e-01,\n",
       "        -4.33911088e-01, -6.91492217e-01, -2.98162676e-01,\n",
       "        -5.25157737e-01,  9.47006403e-01],\n",
       "       [-7.03530920e-01, -9.55945021e-01, -8.05154903e-01,\n",
       "        -4.33911088e-01,  1.49705669e+00,  4.49313789e-16,\n",
       "        -5.25157737e-01, -1.39295209e+00],\n",
       "       [-7.06751132e-01,  6.52946425e-01,  7.27377717e-01,\n",
       "        -4.33911088e-01, -6.97691033e-01, -1.40806499e+00,\n",
       "        -5.25157737e-01,  4.32412542e-01],\n",
       "       [ 1.38896275e+00, -3.64708065e-01, -5.54433554e-01,\n",
       "        -4.33911088e-01, -6.91700644e-01, -2.44146328e-01,\n",
       "        -5.25157737e-01,  9.50677692e-01],\n",
       "       [-7.03530920e-01, -9.55604779e-01, -8.04830901e-01,\n",
       "        -4.33911088e-01,  1.15499010e+00,  1.30894631e+00,\n",
       "        -5.25157737e-01, -1.36824401e+00],\n",
       "       [-7.06751132e-01,  7.82918905e-01,  8.51146742e-01,\n",
       "        -4.33911088e-01, -6.97832643e-01, -1.05229913e+00,\n",
       "        -5.25157737e-01,  4.44567703e-01],\n",
       "       [ 1.63436213e+00, -3.01983937e-01, -5.35466069e-01,\n",
       "         1.81180286e+00, -6.92961862e-01, -4.30949848e-01,\n",
       "         1.68581507e+00,  1.00125306e+00],\n",
       "       [-7.03530920e-01, -9.55718193e-01, -8.04938902e-01,\n",
       "        -4.33911088e-01,  1.19475350e+00,  1.31316092e+00,\n",
       "        -5.25157737e-01, -1.37563052e+00],\n",
       "       [-7.06751132e-01,  2.21794664e+00,  2.21768206e+00,\n",
       "        -4.33911088e-01, -7.00533600e-01, -1.41336446e-01,\n",
       "        -5.25157737e-01,  4.38507856e-01],\n",
       "       [ 1.34914786e+00, -3.61110726e-01, -5.44476232e-01,\n",
       "        -5.93234431e-02, -6.91720306e-01,  5.60552444e-01,\n",
       "         6.33279628e-01,  9.61618339e-01],\n",
       "       [-7.03530920e-01, -9.55831607e-01, -8.05046902e-01,\n",
       "        -4.33911088e-01,  1.35873638e+00,  1.31737407e+00,\n",
       "        -5.25157737e-01, -1.38356544e+00],\n",
       "       [-7.06751132e-01,  1.35826829e+00,  1.39903528e+00,\n",
       "        -4.33911088e-01, -6.98485805e-01, -1.03417395e+00,\n",
       "        -5.25157737e-01,  4.06446220e-01],\n",
       "       [ 1.57385127e+00, -3.28533181e-01, -5.50616093e-01,\n",
       "         8.65985813e-01, -6.92543062e-01,  1.78440906e-01,\n",
       "         1.74656384e+00,  9.72024883e-01],\n",
       "       [-7.03530920e-01, -9.55945021e-01, -8.05154903e-01,\n",
       "        -4.33911088e-01,  1.49705669e+00,  4.49313789e-16,\n",
       "        -5.25157737e-01, -1.39295209e+00],\n",
       "       [-7.06751132e-01,  9.34099809e-01,  9.95111935e-01,\n",
       "        -4.33911088e-01, -6.95645957e-01, -1.47939991e+00,\n",
       "        -5.25157737e-01,  4.20742184e-01],\n",
       "       [ 1.35651406e+00, -3.40427566e-01, -5.25986969e-01,\n",
       "        -4.33911088e-01, -6.92370485e-01, -1.24677250e-01,\n",
       "        -5.25157737e-01,  9.84701977e-01],\n",
       "       [-7.03530920e-01, -9.55831607e-01, -8.05046902e-01,\n",
       "        -4.33911088e-01,  1.29603410e+00,  1.31737407e+00,\n",
       "        -5.25157737e-01, -1.38356544e+00],\n",
       "       [-7.06751132e-01,  1.64633992e+00,  1.67335755e+00,\n",
       "        -4.33911088e-01, -6.98753477e-01, -4.95629883e-01,\n",
       "        -5.25157737e-01,  4.16067953e-01],\n",
       "       [ 1.68946735e+00, -3.03225973e-01, -5.45921696e-01,\n",
       "         9.20310319e-01, -6.93121864e-01,  2.75264291e-01,\n",
       "         1.67861990e+00,  9.87954006e-01],\n",
       "       [-7.03530920e-01, -9.55718193e-01, -8.04938902e-01,\n",
       "        -4.33911088e-01,  1.36599766e+00,  1.31316092e+00,\n",
       "        -5.25157737e-01, -1.37563052e+00],\n",
       "       [-7.06751132e-01,  1.12588294e+00,  1.17774145e+00,\n",
       "        -4.33911088e-01, -6.98162298e-01, -8.67348758e-01,\n",
       "        -5.25157737e-01,  4.37428649e-01],\n",
       "       [ 1.46768459e+00, -3.31137535e-01, -5.35447028e-01,\n",
       "         1.59910690e-01, -6.92090054e-01, -1.24589108e+00,\n",
       "         6.39541451e-01,  9.83706664e-01],\n",
       "       [-7.03530920e-01, -9.55604779e-01, -8.04830901e-01,\n",
       "        -4.33911088e-01,  1.37564125e+00,  1.30894631e+00,\n",
       "        -5.25157737e-01, -1.36824401e+00],\n",
       "       [-7.06751132e-01,  2.43309306e+00,  2.42255976e+00,\n",
       "        -4.33911088e-01, -7.00881141e-01, -2.58178623e-01,\n",
       "        -5.25157737e-01,  3.99660513e-01],\n",
       "       [ 1.48028413e+00, -3.35775330e-01, -5.41949507e-01,\n",
       "         1.27506453e-01, -6.92640288e-01,  4.50722666e-01,\n",
       "         6.10521635e-01,  9.72948066e-01],\n",
       "       [-7.03530920e-01, -9.55831607e-01, -8.05046902e-01,\n",
       "        -4.33911088e-01,  2.00894970e+00,  1.31737407e+00,\n",
       "        -5.25157737e-01, -1.38356544e+00],\n",
       "       [-7.06751132e-01,  1.26027856e+00,  1.30572251e+00,\n",
       "        -4.33911088e-01, -6.99089050e-01, -9.24974378e-01,\n",
       "        -5.25157737e-01,  4.08158027e-01],\n",
       "       [ 1.57023339e+00, -3.17381351e-01, -5.39392417e-01,\n",
       "         2.02786957e+00, -6.92610135e-01,  6.04333626e-02,\n",
       "         2.81623726e+00,  9.86140330e-01],\n",
       "       [-7.03530920e-01, -9.55718193e-01, -8.04938902e-01,\n",
       "        -4.33911088e-01,  1.34461337e+00,  1.31316092e+00,\n",
       "        -5.25157737e-01, -1.37563052e+00],\n",
       "       [-7.06751132e-01,  1.76701245e+00,  1.78827051e+00,\n",
       "        -4.33911088e-01, -6.99074617e-01, -8.09775250e-01,\n",
       "        -5.25157737e-01,  3.97224122e-01],\n",
       "       [ 1.31199199e+00, -3.72689560e-01, -5.49427582e-01,\n",
       "         6.18010178e+00, -6.91414120e-01,  1.92269249e-01,\n",
       "         4.20728056e+00,  9.53034718e-01],\n",
       "       [-7.03530920e-01, -9.55514614e-01, -8.04745039e-01,\n",
       "        -4.33911088e-01,  3.65683202e-01,  1.30559462e+00,\n",
       "        -5.25157737e-01, -1.36263117e+00],\n",
       "       [-7.06751132e-01,  1.10093185e+00,  1.15398125e+00,\n",
       "        -4.33911088e-01, -6.99060817e-01, -1.32493351e+00,\n",
       "        -5.25157737e-01,  3.97702562e-01],\n",
       "       [ 1.29213734e+00, -3.75041239e-01, -5.48429025e-01,\n",
       "         4.42721434e-01, -6.91428173e-01,  1.66278207e-01,\n",
       "         6.53246066e-01,  9.48679759e-01],\n",
       "       [-7.03530920e-01, -9.55831607e-01, -8.05046902e-01,\n",
       "        -4.33911088e-01,  1.46064854e+00,  1.31737407e+00,\n",
       "        -5.25157737e-01, -1.38356544e+00],\n",
       "       [-7.06751132e-01,  8.32594251e-01,  8.98451134e-01,\n",
       "        -4.33911088e-01, -6.97619456e-01, -1.49497643e+00,\n",
       "        -5.25157737e-01,  4.16068730e-01],\n",
       "       [ 1.39633419e+00, -3.64577245e-01, -5.55520781e-01,\n",
       "         1.29712572e+00, -6.91807960e-01,  3.44561142e-01,\n",
       "         6.55790369e-01,  9.47553696e-01],\n",
       "       [-7.03530920e-01, -9.55718193e-01, -8.04938902e-01,\n",
       "        -4.33911088e-01,  1.34742311e+00,  1.31316092e+00,\n",
       "        -5.25157737e-01, -1.37563052e+00],\n",
       "       [-7.06751132e-01,  1.17998143e+00,  1.22925787e+00,\n",
       "        -4.33911088e-01, -6.95850479e-01, -9.78276475e-01,\n",
       "        -5.25157737e-01,  4.33153703e-01],\n",
       "       [ 1.12603737e+00, -4.11831466e-01, -5.56597678e-01,\n",
       "        -1.30556371e-01, -6.90332178e-01, -5.77331641e-01,\n",
       "         7.16848996e-01,  9.23783114e-01],\n",
       "       [-7.03530920e-01, -9.55831607e-01, -8.05046902e-01,\n",
       "        -4.33911088e-01,  1.47981996e+00,  1.31737407e+00,\n",
       "        -5.25157737e-01, -1.38356544e+00],\n",
       "       [-7.06751132e-01,  6.61339064e-01,  7.35369783e-01,\n",
       "        -4.33911088e-01, -6.96842022e-01, -1.76622891e+00,\n",
       "        -5.25157737e-01,  4.29445228e-01],\n",
       "       [ 1.25925687e+00, -3.85672424e-01, -5.53202995e-01,\n",
       "         1.28335647e+00, -6.91360643e-01, -2.58205907e-01,\n",
       "         6.97836509e-01,  9.36265236e-01],\n",
       "       [-7.03530920e-01, -9.55831607e-01, -8.05046902e-01,\n",
       "        -4.33911088e-01,  1.31618280e+00,  1.31737407e+00,\n",
       "        -5.25157737e-01, -1.38356544e+00],\n",
       "       [-7.06751132e-01,  1.27014558e+00,  1.31511859e+00,\n",
       "        -4.33911088e-01, -6.98761643e-01, -5.51688577e-01,\n",
       "        -5.25157737e-01,  4.21103751e-01],\n",
       "       [ 1.23564653e+00, -4.03737522e-01, -5.66573975e-01,\n",
       "         2.09669803e+00, -6.90394395e-01, -8.19464175e-01,\n",
       "         1.96843811e+00,  9.17212555e-01],\n",
       "       [-7.03530920e-01, -9.55718193e-01, -8.04938902e-01,\n",
       "        -4.33911088e-01,  1.16453338e+00,  1.31316092e+00,\n",
       "        -5.25157737e-01, -1.37563052e+00],\n",
       "       [-7.06751132e-01,  9.15273079e-01,  9.77183786e-01,\n",
       "        -4.33911088e-01, -6.99136788e-01, -7.51184324e-01,\n",
       "        -5.25157737e-01,  4.35582194e-01],\n",
       "       [ 1.60957963e+00, -3.07421951e-01, -5.36488517e-01,\n",
       "         1.06671286e+00, -6.93007382e-01, -2.22418547e-01,\n",
       "         2.80112725e+00,  9.90967223e-01],\n",
       "       [-7.03530920e-01, -9.55459597e-01, -8.04692648e-01,\n",
       "        -4.33911088e-01,  1.57649836e+00,  1.30354904e+00,\n",
       "        -5.25157737e-01, -1.35929504e+00],\n",
       "       [-7.06751132e-01,  9.73908134e-01,  1.03302025e+00,\n",
       "        -4.33911088e-01, -6.97021899e-01, -1.26854860e+00,\n",
       "        -5.25157737e-01,  4.13926666e-01],\n",
       "       [ 1.41136632e+00, -3.45753247e-01, -5.40068817e-01,\n",
       "         1.17566609e+00, -6.92319186e-01,  4.71510720e-01,\n",
       "         1.78569327e+00,  9.74160789e-01],\n",
       "       [-7.03530920e-01, -9.55718193e-01, -8.04938902e-01,\n",
       "        -4.33911088e-01,  1.21609613e+00,  1.31316092e+00,\n",
       "        -5.25157737e-01, -1.37563052e+00],\n",
       "       [-7.06751132e-01,  9.56215545e-01,  1.01617211e+00,\n",
       "        -4.33911088e-01, -6.98101072e-01, -1.05468355e+00,\n",
       "        -5.25157737e-01,  4.28857576e-01],\n",
       "       [ 1.47068803e+00, -3.32388400e-01, -5.37135246e-01,\n",
       "         1.62302017e+00, -6.92388599e-01, -4.64156197e-01,\n",
       "         1.67486966e+00,  9.84735407e-01],\n",
       "       [-7.03530920e-01, -9.55747231e-01, -8.04966554e-01,\n",
       "        -4.33911088e-01,  9.39752013e-01,  1.31423978e+00,\n",
       "        -5.25157737e-01, -1.37759780e+00],\n",
       "       [-7.06751132e-01,  1.96922967e+00,  1.98083610e+00,\n",
       "        -4.33911088e-01, -7.00063239e-01, -9.05316319e-01,\n",
       "        -5.25157737e-01,  3.89350342e-01]])"
      ]
     },
     "execution_count": 20,
     "metadata": {},
     "output_type": "execute_result"
    }
   ],
   "source": [
    "# Tratando valores nan\n",
    "\n",
    "imp = SimpleImputer(strategy=\"mean\")\n",
    "X_train = imp.fit_transform(X_train)\n",
    "X_train"
   ]
  },
  {
   "cell_type": "code",
   "execution_count": 21,
   "metadata": {
    "id": "_xh_w0xSGQ8Q"
   },
   "outputs": [
    {
     "name": "stdout",
     "output_type": "stream",
     "text": [
      "O PCA com 2 componentes principais explica 87.6581% da variância\n"
     ]
    }
   ],
   "source": [
    "# Aplicando Análise de Componentes Principais (PCA)\n",
    "pca = PCA(n_components = 2)\n",
    "X_r = pca.fit_transform(X_train)\n",
    "\n",
    "# Compreendendo variância explicada\n",
    "explained_variance = sum(pca.explained_variance_ratio_.tolist()[:2]) * 100\n",
    "print(f\"O PCA com 2 componentes principais explica {explained_variance:.4f}% da variância\")"
   ]
  },
  {
   "cell_type": "code",
   "execution_count": 22,
   "metadata": {
    "id": "NIG0LHYaGU9s"
   },
   "outputs": [
    {
     "data": {
      "text/plain": [
       "array([2.9381721 , 3.00396125, 2.3658241 , 2.3658241 , 2.3658241 ,\n",
       "       2.79314402, 2.94064248, 2.72800474, 3.25114539, 2.82490061,\n",
       "       2.69988729, 2.3658241 , 2.70651553, 2.73145122, 2.81792758,\n",
       "       2.3658241 , 2.78699715, 2.81592431, 2.81536061, 3.13867154,\n",
       "       2.80537565, 2.31305295, 2.86819987, 2.80676166, 2.87765694,\n",
       "       2.79693631, 2.71654392, 2.90787423, 2.74197933, 2.60706042])"
      ]
     },
     "execution_count": 22,
     "metadata": {},
     "output_type": "execute_result"
    }
   ],
   "source": [
    "X_r[y_train == 1.0, 0]"
   ]
  },
  {
   "cell_type": "code",
   "execution_count": 23,
   "metadata": {
    "id": "yHwZNUv0GXQG"
   },
   "outputs": [
    {
     "data": {
      "text/plain": [
       "Text(0.5, 1.0, 'PCA Facebook Network')"
      ]
     },
     "execution_count": 23,
     "metadata": {},
     "output_type": "execute_result"
    },
    {
     "data": {
      "image/png": "[encoded data removed]",
      "text/plain": [
       "<Figure size 432x288 with 1 Axes>"
      ]
     },
     "metadata": {
      "needs_background": "light"
     },
     "output_type": "display_data"
    }
   ],
   "source": [
    "colors = [\"orange\", \"turquoise\", \"red\"]\n",
    "lw = 3\n",
    "\n",
    "for color, i in zip(colors, [0.0, 1.0, 2.0]):\n",
    "    plt.scatter(\n",
    "        X_r[y_train == i, 0], X_r[y_train == i, 1], color=color, lw=lw, label=i\n",
    "    )\n",
    "plt.legend(loc=\"best\", shadow=False, scatterpoints=1)\n",
    "plt.title(\"PCA Facebook Network\")"
   ]
  },
  {
   "cell_type": "code",
   "execution_count": 24,
   "metadata": {
    "id": "RG4sp1BcGjNP"
   },
   "outputs": [
    {
     "name": "stdout",
     "output_type": "stream",
     "text": [
      "Classe: BA\n"
     ]
    },
    {
     "name": "stderr",
     "output_type": "stream",
     "text": [
      "/home/gustavo/miniconda3/lib/python3.9/site-packages/sklearn/neighbors/_classification.py:228: FutureWarning: Unlike other reduction functions (e.g. `skew`, `kurtosis`), the default behavior of `mode` typically preserves the axis it acts along. In SciPy 1.11.0, this behavior will change: the default value of `keepdims` will become False, the `axis` over which the statistic is taken will be eliminated, and the value None will no longer be accepted. Set `keepdims` to True or False to avoid this warning.\n",
      "  mode, _ = stats.mode(_y[neigh_ind, k], axis=1)\n"
     ]
    }
   ],
   "source": [
    "# Aplicando modelo KNN com 5 vizinhos\n",
    "k = 5\n",
    "model = KNeighborsClassifier(n_neighbors=k, metric='euclidean')\n",
    "model.fit(X_r, y_train)\n",
    "\n",
    "# faz a predição no conjunto de teste\n",
    "X_facebook = pca.transform(X_facebook)\n",
    "y_pred = model.predict(X_facebook)\n",
    "cl = ['ER','WS','BA']\n",
    "print('Classe:', cl[int(y_pred)])"
   ]
  },
  {
   "cell_type": "markdown",
   "metadata": {
    "id": "KiQDwc2tqnGi"
   },
   "source": [
    "### 3.4. Google+"
   ]
  },
  {
   "cell_type": "code",
   "execution_count": 25,
   "metadata": {
    "id": "vp36xvRYqonT"
   },
   "outputs": [
    {
     "ename": "SyntaxError",
     "evalue": "invalid syntax (1744214640.py, line 1)",
     "output_type": "error",
     "traceback": [
      "\u001b[0;36m  Input \u001b[0;32mIn [25]\u001b[0;36m\u001b[0m\n\u001b[0;31m    http://konect.cc/networks/ego-gplus/\u001b[0m\n\u001b[0m         ^\u001b[0m\n\u001b[0;31mSyntaxError\u001b[0m\u001b[0;31m:\u001b[0m invalid syntax\n"
     ]
    }
   ],
   "source": [
    "http://konect.cc/networks/ego-gplus/"
   ]
  },
  {
   "cell_type": "markdown",
   "metadata": {
    "id": "Rxz_slqmq6tW"
   },
   "source": [
    "### 3.5. Twitter"
   ]
  },
  {
   "cell_type": "code",
   "execution_count": null,
   "metadata": {
    "id": "INsOp9B0q8fB"
   },
   "outputs": [],
   "source": [
    "http://konect.cc/networks/twitter/"
   ]
  },
  {
   "cell_type": "markdown",
   "metadata": {
    "id": "hoehcu2Sq9u-"
   },
   "source": [
    "### 4. Conclusão"
   ]
  },
  {
   "cell_type": "markdown",
   "metadata": {
    "id": "yn4u_EffrB43"
   },
   "source": [
    "### 5. Referências Bibliográficas\n",
    "\n",
    "* http://konect.cc/\n",
    "\n",
    "* https://iopscience.iop.org/article/10.1088/1742-5468/2010/11/P11015/pdf"
   ]
  }
 ],
 "metadata": {
  "colab": {
   "provenance": []
  },
  "kernelspec": {
   "display_name": "Python 3 (ipykernel)",
   "language": "python",
   "name": "python3"
  },
  "language_info": {
   "codemirror_mode": {
    "name": "ipython",
    "version": 3
   },
   "file_extension": ".py",
   "mimetype": "text/x-python",
   "name": "python",
   "nbconvert_exporter": "python",
   "pygments_lexer": "ipython3",
   "version": "3.9.12"
  }
 },
 "nbformat": 4,
 "nbformat_minor": 1
}
