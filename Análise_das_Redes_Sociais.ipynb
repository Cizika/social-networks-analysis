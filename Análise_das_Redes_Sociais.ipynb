{
  "cells": [
    {
      "attachments": {},
      "cell_type": "markdown",
      "metadata": {
        "id": "KKgXt_HknnOy"
      },
      "source": [
        "# Classificação de Redes Sociais\n",
        "\n",
        "Projeto da disciplina **SME0130 - Redes Complexas** administrada pelo Prof. Francisco Rodrigues\n",
        "\n",
        "* Alexandre Eduardo de Souza Jesus - alexandre_souza@usp.br - 12559506\n",
        "\n",
        "* Aline Pereira - alinespereira@usp.br - 6485698\n",
        "\n",
        "* Eduardo Almeida Merussi Neiva - - 10817027\n",
        "\n",
        "* Lucas Ivars Cadima Ciziks - luciziks@usp.br - 125599472\n",
        "\n",
        "* Paloma Botto de Medeiros Serrão - palomabotto@usp.br - 12689641\n",
        "\n",
        "---"
      ]
    },
    {
      "cell_type": "code",
      "execution_count": null,
      "metadata": {
        "id": "__5uyt_qnUL4"
      },
      "outputs": [],
      "source": [
        "import numpy as np\n",
        "import newtorkx as nx\n",
        "import scipy"
      ]
    },
    {
      "cell_type": "markdown",
      "metadata": {
        "id": "OsZANZC1oXQB"
      },
      "source": [
        "## 1. Introdução"
      ]
    },
    {
      "cell_type": "markdown",
      "metadata": {
        "id": "Hm3ZXms2ogPw"
      },
      "source": [
        "## 2. Metodologia\n",
        "\n",
        "A análise será realizada da seguinte forma:\n",
        "\n",
        "* Selecionar algumas redes sociais para análise (http://konect.cc/categories/Social/);\n",
        "* Para cada rede social, gerar cerca de 30 redes a partir dos modelos ER, BA, WS, etc, com o mesmo N e grau médio da rede real;\n",
        "*Calcular medidas para cada rede, tais como distância, transitividade, etc;\n",
        "* Projetar em 2D as redes e os modelos;\n",
        "* Classificar a rede de acordo com os modelos (https://iopscience.iop.org/article/10.1088/1742-5468/2010/11/P11015/pdf)."
      ]
    },
    {
      "cell_type": "markdown",
      "metadata": {
        "id": "xI2Oyrr1o_tu"
      },
      "source": [
        "## 3. Análise das Redes Sociais"
      ]
    },
    {
      "cell_type": "markdown",
      "metadata": {
        "id": "oFIWZNUQpGZW"
      },
      "source": [
        "### 3.1. Orkut"
      ]
    },
    {
      "cell_type": "code",
      "execution_count": null,
      "metadata": {
        "id": "8HC3acuqoflT"
      },
      "outputs": [],
      "source": [
        "http://konect.cc/networks/orkut-links/"
      ]
    },
    {
      "cell_type": "markdown",
      "metadata": {
        "id": "KiQDwc2tqnGi"
      },
      "source": [
        "### 3.2. Google+"
      ]
    },
    {
      "cell_type": "code",
      "execution_count": null,
      "metadata": {
        "id": "vp36xvRYqonT"
      },
      "outputs": [],
      "source": [
        "http://konect.cc/networks/ego-gplus/"
      ]
    },
    {
      "cell_type": "markdown",
      "metadata": {
        "id": "ziIv91gOqpZU"
      },
      "source": [
        "### 3.3. Flickr"
      ]
    },
    {
      "cell_type": "code",
      "execution_count": null,
      "metadata": {
        "id": "RkxtastLqygH"
      },
      "outputs": [],
      "source": [
        "http://konect.cc/networks/flickr-growth/"
      ]
    },
    {
      "cell_type": "markdown",
      "metadata": {
        "id": "Rxz_slqmq6tW"
      },
      "source": [
        "### 3.4. Twitter"
      ]
    },
    {
      "cell_type": "code",
      "execution_count": null,
      "metadata": {
        "id": "INsOp9B0q8fB"
      },
      "outputs": [],
      "source": [
        "http://konect.cc/networks/twitter/"
      ]
    },
    {
      "cell_type": "markdown",
      "metadata": {
        "id": "hoehcu2Sq9u-"
      },
      "source": [
        "### 4. Conclusão"
      ]
    },
    {
      "cell_type": "markdown",
      "metadata": {
        "id": "yn4u_EffrB43"
      },
      "source": [
        "### 5. Referências Bibliográficas\n",
        "\n",
        "* http://konect.cc/\n",
        "\n",
        "* https://iopscience.iop.org/article/10.1088/1742-5468/2010/11/P11015/pdf"
      ]
    }
  ],
  "metadata": {
    "colab": {
      "provenance": []
    },
    "kernelspec": {
      "display_name": "Python 3",
      "name": "python3"
    },
    "language_info": {
      "name": "python"
    }
  },
  "nbformat": 4,
  "nbformat_minor": 0
}
